{
 "cells": [
  {
   "cell_type": "code",
   "execution_count": 1,
   "metadata": {},
   "outputs": [
    {
     "name": "stdout",
     "output_type": "stream",
     "text": [
      "Populating the interactive namespace from numpy and matplotlib\n"
     ]
    },
    {
     "name": "stderr",
     "output_type": "stream",
     "text": [
      "DEBUG:commons:\u001b[35mversion: 6.1.7 *\u001b[0m\n",
      "INFO:typing:\u001b[32mversion: 6.1.8\u001b[0m\n",
      "INFO:conf_tools:\u001b[32mconf_tools 6.0.2\u001b[0m\n"
     ]
    },
    {
     "name": "stdout",
     "output_type": "stream",
     "text": [
      "Populating the interactive namespace from numpy and matplotlib\n"
     ]
    }
   ],
   "source": [
    "%load_ext autoreload\n",
    "%autoreload 2\n",
    "%matplotlib inline\n",
    "%pylab inline\n",
    "import numpy as np\n",
    "import duckietown_code_utils as dcu;\n",
    "%matplotlib inline\n",
    "%pylab inline"
   ]
  },
  {
   "cell_type": "markdown",
   "metadata": {},
   "source": [
    "# Implementation of Braitenberg agent\n",
    "\n",
    "Now we know enough to implement our Braitenberg agent.\n",
    "\n",
    "\n",
    "We will implement an agent of the form\n",
    "\n",
    "```python\n",
    "left_motor  = const + gain *  np.sum( LEFT * preprocess(image) )\n",
    "right_motor = const + gain *  np.sum( RIGHT * preprocess(image) )\n",
    "```\n",
    "\n",
    "where `LEFT` and `RIGHT` are the weight matrices, while `const` and `gain` are two extra parameters for fine tuning."
   ]
  },
  {
   "cell_type": "markdown",
   "metadata": {},
   "source": [
    "You will have to implement the two functions `get_motor_left_matrix()` and `get_motor_right_matrix()` in the file [connections.py](connections.py). The file contains code that creates connections with some random values. Erase and put your own."
   ]
  },
  {
   "cell_type": "markdown",
   "metadata": {},
   "source": [
    "The other important code, which you need to **not** touch (at the beginning), is the file [agent.py](agent.py). This contains the rest of the Braitenberg agent, including all of the functionality (reading observations and create commands). The agent will load the `get_motor_left_matrix`, `get_motor_right_matrix` functions from the file [connections.py](connections.py).\n"
   ]
  },
  {
   "cell_type": "markdown",
   "metadata": {},
   "source": [
    "We can also load the functions from this notebook:"
   ]
  },
  {
   "cell_type": "code",
   "execution_count": 2,
   "metadata": {},
   "outputs": [],
   "source": [
    "from connections import get_motor_left_matrix, get_motor_right_matrix"
   ]
  },
  {
   "cell_type": "markdown",
   "metadata": {},
   "source": [
    "We can visualize the functions above. As we said, the defaults do not make much sense, so not much interesting. But if you go and change the functions, then you will see more interesting results.\n",
    "\n",
    "Note: you might need to reload the kernel for the notebook to detect the changes."
   ]
  },
  {
   "cell_type": "code",
   "execution_count": 11,
   "metadata": {
    "tags": [
     "export"
    ]
   },
   "outputs": [],
   "source": [
    "fn = '../samples/big-duck/big-duck-10.jpg'\n",
    "#fn = '../samples/patobot/image2.jpg'\n",
    "\n",
    "image1 = dcu.rgb_from_jpg_fn(fn);\n",
    "image1_gray = np.mean(image1, axis=2)\n",
    "shape = image1_gray.shape"
   ]
  },
  {
   "cell_type": "code",
   "execution_count": 4,
   "metadata": {
    "pycharm": {
     "name": "#%%\n"
    },
    "tags": [
     "export"
    ]
   },
   "outputs": [],
   "source": [
    "L = get_motor_left_matrix(shape)\n",
    "R = get_motor_right_matrix(shape)"
   ]
  },
  {
   "cell_type": "code",
   "execution_count": 5,
   "metadata": {
    "pycharm": {
     "name": "#%%md\n"
    }
   },
   "outputs": [
    {
     "data": {
      "image/png": "[encoded data removed]",
      "text/plain": [
       "<Figure size 432x288 with 2 Axes>"
      ]
     },
     "metadata": {
      "needs_background": "light"
     },
     "output_type": "display_data"
    }
   ],
   "source": [
    "# visualizing left matrix\n",
    "\n",
    "f = figure()\n",
    "f.add_subplot(1, 2, 1)\n",
    "imshow(dcu.posneg(L))\n",
    "title('left matrix');\n",
    "f.add_subplot(1, 2, 2)\n",
    "imshow(dcu.posneg(R))\n",
    "title('right matrix');"
   ]
  },
  {
   "cell_type": "markdown",
   "metadata": {},
   "source": [
    "The following code will run the algorithm against some test images.\n",
    "\n",
    "Note that it is not possible to really test such an algorithm on passive data. We need to run it!"
   ]
  },
  {
   "cell_type": "code",
   "execution_count": 7,
   "metadata": {},
   "outputs": [],
   "source": [
    "from matplotlib import pylab\n",
    "import glob, os\n",
    "from preprocessing import preprocess\n",
    "dirname = '../samples/many-duckies'\n",
    "#dirname = '../samples/patobot'\n",
    "\n",
    "images = glob.glob(f'{dirname}/*.jpg')\n",
    "for a in images:\n",
    "    im = dcu.rgb_from_jpg_fn(a)\n",
    "    P = preprocess(im)\n",
    "    Lim = P * L\n",
    "    Rim = P * R\n",
    "    Lsign = np.sum(Lim)\n",
    "    Rsign = np.sum(Rim)\n",
    "    f = pylab.figure(figsize=(10,2))\n",
    "    f.add_subplot(1, 4, 1)\n",
    "    imshow(im)\n",
    "    pylab.title(os.path.basename(a))\n",
    "    f.add_subplot(1, 4, 2)\n",
    "    imshow(P, cmap='gray')\n",
    "    pylab.title(\"Preprocessed\")\n",
    "    f.add_subplot(1, 4, 3)\n",
    "    imshow(dcu.posneg(Lim))\n",
    "    pylab.title('left wheel ' + ('↑' if Lsign > 0 else '↓'))\n",
    "    f.add_subplot(1, 4, 4)\n",
    "    imshow(dcu.posneg(Rim), cmap='bwr')\n",
    "    pylab.title('right wheel ' + ('↑' if Rsign > 0 else '↓'))\n"
   ]
  },
  {
   "cell_type": "markdown",
   "metadata": {},
   "source": [
    "Your agent is now ready to be tested according to the instructions in the [README](https://github.com/duckietown/mooc-exercises/blob/daffy/braitenberg/README.md)."
   ]
  },
  {
   "cell_type": "markdown",
   "metadata": {},
   "source": [
    "Consider the agent that we gave you as a starting point - feel free to explore with different code also in [agent.py](agent.py)."
   ]
  },
  {
   "cell_type": "markdown",
   "metadata": {},
   "source": [
    "Remember that to hand in the exercise, you will have to complete the final step in the instructions successfully (`dts challenges submit`)."
   ]
  }
 ],
 "metadata": {
  "celltoolbar": "Tags",
  "kernelspec": {
   "display_name": "Python 3",
   "language": "python",
   "name": "python3"
  },
  "language_info": {
   "codemirror_mode": {
    "name": "ipython",
    "version": 3
   },
   "file_extension": ".py",
   "mimetype": "text/x-python",
   "name": "python",
   "nbconvert_exporter": "python",
   "pygments_lexer": "ipython3",
   "version": "3.8.5"
  }
 },
 "nbformat": 4,
 "nbformat_minor": 4
}
